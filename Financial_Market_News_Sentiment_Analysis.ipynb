{
 "cells": [
  {
   "cell_type": "markdown",
   "metadata": {
    "id": "ahDd1UdOHtBb"
   },
   "source": [
    "**Importing Lib**"
   ]
  },
  {
   "cell_type": "code",
   "execution_count": 1,
   "metadata": {
    "id": "Vh_0c9VUHjuf"
   },
   "outputs": [],
   "source": [
    "import pandas as pd"
   ]
  },
  {
   "cell_type": "code",
   "execution_count": 2,
   "metadata": {
    "id": "AShyfPGGH2zp"
   },
   "outputs": [],
   "source": [
    "import numpy as np"
   ]
  },
  {
   "cell_type": "markdown",
   "metadata": {
    "id": "5JgEUoTcH75R"
   },
   "source": [
    "**Import DataSet**"
   ]
  },
  {
   "cell_type": "code",
   "execution_count": 3,
   "metadata": {
    "id": "g9PlWZmHH4lO"
   },
   "outputs": [],
   "source": [
    "df=pd.read_csv(r\"https://github.com/ybifoundation/Dataset/raw/main/Financial%20Market%20News.csv\" , encoding='\"ISO-8859-1\"')"
   ]
  },
  {
   "cell_type": "code",
   "execution_count": 4,
   "metadata": {
    "colab": {
     "base_uri": "https://localhost:8080/",
     "height": 768
    },
    "executionInfo": {
     "elapsed": 804,
     "status": "ok",
     "timestamp": 1653818362651,
     "user": {
      "displayName": "Phasma X",
      "userId": "00537645652717338233"
     },
     "user_tz": -330
    },
    "id": "jRTptGpWJuID",
    "outputId": "8578d12f-d10f-4570-8de0-e7d526c6a8da"
   },
   "outputs": [
    {
     "data": {
      "text/html": [
       "<div>\n",
       "<style scoped>\n",
       "    .dataframe tbody tr th:only-of-type {\n",
       "        vertical-align: middle;\n",
       "    }\n",
       "\n",
       "    .dataframe tbody tr th {\n",
       "        vertical-align: top;\n",
       "    }\n",
       "\n",
       "    .dataframe thead th {\n",
       "        text-align: right;\n",
       "    }\n",
       "</style>\n",
       "<table border=\"1\" class=\"dataframe\">\n",
       "  <thead>\n",
       "    <tr style=\"text-align: right;\">\n",
       "      <th></th>\n",
       "      <th>Date</th>\n",
       "      <th>Label</th>\n",
       "      <th>News 1</th>\n",
       "      <th>News 2</th>\n",
       "      <th>News 3</th>\n",
       "      <th>News 4</th>\n",
       "      <th>News 5</th>\n",
       "      <th>News 6</th>\n",
       "      <th>News 7</th>\n",
       "      <th>News 8</th>\n",
       "      <th>...</th>\n",
       "      <th>News 16</th>\n",
       "      <th>News 17</th>\n",
       "      <th>News 18</th>\n",
       "      <th>News 19</th>\n",
       "      <th>News 20</th>\n",
       "      <th>News 21</th>\n",
       "      <th>News 22</th>\n",
       "      <th>News 23</th>\n",
       "      <th>News 24</th>\n",
       "      <th>News 25</th>\n",
       "    </tr>\n",
       "  </thead>\n",
       "  <tbody>\n",
       "    <tr>\n",
       "      <th>0</th>\n",
       "      <td>01-01-2010</td>\n",
       "      <td>0</td>\n",
       "      <td>McIlroy's men catch cold from Gudjonsson</td>\n",
       "      <td>Obituary: Brian Walsh</td>\n",
       "      <td>Workplace blues leave employers in the red</td>\n",
       "      <td>Classical review: Rattle</td>\n",
       "      <td>Dance review: Merce Cunningham</td>\n",
       "      <td>Genetic tests to be used in setting premiums</td>\n",
       "      <td>Opera review: La Bohème</td>\n",
       "      <td>Pop review: Britney Spears</td>\n",
       "      <td>...</td>\n",
       "      <td>Finland 0 - 0 England</td>\n",
       "      <td>Healy a marked man</td>\n",
       "      <td>Happy birthday Harpers &amp; Queen</td>\n",
       "      <td>Win unlimited access to the Raindance film fes...</td>\n",
       "      <td>Labour pledges £800m to bridge north-south divide</td>\n",
       "      <td>Wales: Lib-Lab pact firm despite resignation</td>\n",
       "      <td>Donald Dewar</td>\n",
       "      <td>Regenerating homes  regenerates well-being in ...</td>\n",
       "      <td>Win £100 worth of underwear</td>\n",
       "      <td>TV guide: Random views</td>\n",
       "    </tr>\n",
       "    <tr>\n",
       "      <th>1</th>\n",
       "      <td>02-01-2010</td>\n",
       "      <td>0</td>\n",
       "      <td>Warning from history points to crash</td>\n",
       "      <td>Investors flee to dollar haven</td>\n",
       "      <td>Banks and tobacco in favour</td>\n",
       "      <td>Review: Llama Farmers</td>\n",
       "      <td>War jitters lead to sell-off</td>\n",
       "      <td>Your not-so-secret history</td>\n",
       "      <td>Review: The Northern Sinfonia</td>\n",
       "      <td>Review: Hysteria</td>\n",
       "      <td>...</td>\n",
       "      <td>Why Wenger will stick to his Gunners</td>\n",
       "      <td>Out of luck England hit rock bottom</td>\n",
       "      <td>Wilkinson out of his depth</td>\n",
       "      <td>Kinsella sparks Irish power play</td>\n",
       "      <td>Brown banished as Scots rebound</td>\n",
       "      <td>Battling Wales cling to lifeline</td>\n",
       "      <td>Ehiogu close to sealing Boro move</td>\n",
       "      <td>Man-to-man marking</td>\n",
       "      <td>Match stats</td>\n",
       "      <td>French referee at centre of storm is no strang...</td>\n",
       "    </tr>\n",
       "    <tr>\n",
       "      <th>2</th>\n",
       "      <td>03-01-2010</td>\n",
       "      <td>0</td>\n",
       "      <td>Comment: Why Israel's peaceniks feel betrayed</td>\n",
       "      <td>Court deals blow to seizure of drug assets</td>\n",
       "      <td>An ideal target for spooks</td>\n",
       "      <td>World steps between two sides intent on war</td>\n",
       "      <td>What the region's papers say</td>\n",
       "      <td>Comment: Fear and rage in Palestine</td>\n",
       "      <td>Poverty and resentment fuels Palestinian fury</td>\n",
       "      <td>Republican feud fear as dissident is killed</td>\n",
       "      <td>...</td>\n",
       "      <td>FTSE goes upwardly mobile</td>\n",
       "      <td>At this price?  BP Amoco</td>\n",
       "      <td>Go fish</td>\n",
       "      <td>Bosnian Serb blows himself up to evade law</td>\n",
       "      <td>Orange float delayed to 2001</td>\n",
       "      <td>Angry factory workers root out fear, favours a...</td>\n",
       "      <td>Smith defied advice on dome payout</td>\n",
       "      <td>Xerox takes the axe to jobs</td>\n",
       "      <td>Comment: Refugees in Britain</td>\n",
       "      <td>Maverick who sparked the new intifada</td>\n",
       "    </tr>\n",
       "    <tr>\n",
       "      <th>3</th>\n",
       "      <td>04-01-2010</td>\n",
       "      <td>1</td>\n",
       "      <td>£750,000-a-goal Weah aims parting shot</td>\n",
       "      <td>Newcastle pay for Fletcher years</td>\n",
       "      <td>Brown sent to the stands for Scotland qualifier</td>\n",
       "      <td>Tourists wary of breaking new ground</td>\n",
       "      <td>Canary Wharf climbs into the FTSE 100</td>\n",
       "      <td>Review: Bill Bailey</td>\n",
       "      <td>Review: Classical</td>\n",
       "      <td>Review: New Contemporaries 2000</td>\n",
       "      <td>...</td>\n",
       "      <td>More cash on way for counties</td>\n",
       "      <td>Cairns carries Kiwis to victory</td>\n",
       "      <td>Year of Blanchflower's flourish when Spurs sto...</td>\n",
       "      <td>New direct approach brings only pay-per-blues</td>\n",
       "      <td>Third Division  round-up</td>\n",
       "      <td>Second Division  round-up</td>\n",
       "      <td>First Division  round-up</td>\n",
       "      <td>McLean ends his career with a punch</td>\n",
       "      <td>Heskey grabs triple crown</td>\n",
       "      <td>Weah on his way as City march on</td>\n",
       "    </tr>\n",
       "    <tr>\n",
       "      <th>4</th>\n",
       "      <td>05-01-2010</td>\n",
       "      <td>1</td>\n",
       "      <td>Leeds arrive in Turkey to the silence of the fans</td>\n",
       "      <td>One woman's vision offers loan lifeline</td>\n",
       "      <td>Working Lives: How world leaders worked</td>\n",
       "      <td>Working Lives: Tricks of the trade</td>\n",
       "      <td>Working Lives: six-hour days, long lunches and...</td>\n",
       "      <td>Pop review: We Love UK</td>\n",
       "      <td>World music review: Marisa Monte</td>\n",
       "      <td>Art review:  Hollingsworth/Heyer</td>\n",
       "      <td>...</td>\n",
       "      <td>Duisenberg in double trouble</td>\n",
       "      <td>Pru to cut pension charges</td>\n",
       "      <td>Art review: Paul Graham</td>\n",
       "      <td>Shearer shot sparks Boro humiliation</td>\n",
       "      <td>Ridsdale's lingering fears as Leeds revisit Tu...</td>\n",
       "      <td>Champions League: Rangers v Galatasaray</td>\n",
       "      <td>Champions League: Lazio v Arsenal</td>\n",
       "      <td>Lazio 1 - 1 Arsenal</td>\n",
       "      <td>England in Pakistan</td>\n",
       "      <td>England given olive-branch reception</td>\n",
       "    </tr>\n",
       "  </tbody>\n",
       "</table>\n",
       "<p>5 rows × 27 columns</p>\n",
       "</div>"
      ],
      "text/plain": [
       "         Date  Label                                             News 1  \\\n",
       "0  01-01-2010      0           McIlroy's men catch cold from Gudjonsson   \n",
       "1  02-01-2010      0               Warning from history points to crash   \n",
       "2  03-01-2010      0      Comment: Why Israel's peaceniks feel betrayed   \n",
       "3  04-01-2010      1             £750,000-a-goal Weah aims parting shot   \n",
       "4  05-01-2010      1  Leeds arrive in Turkey to the silence of the fans   \n",
       "\n",
       "                                       News 2  \\\n",
       "0                       Obituary: Brian Walsh   \n",
       "1              Investors flee to dollar haven   \n",
       "2  Court deals blow to seizure of drug assets   \n",
       "3            Newcastle pay for Fletcher years   \n",
       "4     One woman's vision offers loan lifeline   \n",
       "\n",
       "                                            News 3  \\\n",
       "0       Workplace blues leave employers in the red   \n",
       "1                      Banks and tobacco in favour   \n",
       "2                       An ideal target for spooks   \n",
       "3  Brown sent to the stands for Scotland qualifier   \n",
       "4          Working Lives: How world leaders worked   \n",
       "\n",
       "                                        News 4  \\\n",
       "0                     Classical review: Rattle   \n",
       "1                        Review: Llama Farmers   \n",
       "2  World steps between two sides intent on war   \n",
       "3         Tourists wary of breaking new ground   \n",
       "4           Working Lives: Tricks of the trade   \n",
       "\n",
       "                                              News 5  \\\n",
       "0                     Dance review: Merce Cunningham   \n",
       "1                       War jitters lead to sell-off   \n",
       "2                       What the region's papers say   \n",
       "3              Canary Wharf climbs into the FTSE 100   \n",
       "4  Working Lives: six-hour days, long lunches and...   \n",
       "\n",
       "                                         News 6  \\\n",
       "0  Genetic tests to be used in setting premiums   \n",
       "1                    Your not-so-secret history   \n",
       "2           Comment: Fear and rage in Palestine   \n",
       "3                           Review: Bill Bailey   \n",
       "4                        Pop review: We Love UK   \n",
       "\n",
       "                                          News 7  \\\n",
       "0                        Opera review: La Bohème   \n",
       "1                  Review: The Northern Sinfonia   \n",
       "2  Poverty and resentment fuels Palestinian fury   \n",
       "3                              Review: Classical   \n",
       "4               World music review: Marisa Monte   \n",
       "\n",
       "                                        News 8  ...  \\\n",
       "0                   Pop review: Britney Spears  ...   \n",
       "1                             Review: Hysteria  ...   \n",
       "2  Republican feud fear as dissident is killed  ...   \n",
       "3              Review: New Contemporaries 2000  ...   \n",
       "4             Art review:  Hollingsworth/Heyer  ...   \n",
       "\n",
       "                                News 16                              News 17  \\\n",
       "0                 Finland 0 - 0 England                   Healy a marked man   \n",
       "1  Why Wenger will stick to his Gunners  Out of luck England hit rock bottom   \n",
       "2             FTSE goes upwardly mobile             At this price?  BP Amoco   \n",
       "3         More cash on way for counties      Cairns carries Kiwis to victory   \n",
       "4          Duisenberg in double trouble           Pru to cut pension charges   \n",
       "\n",
       "                                             News 18  \\\n",
       "0                     Happy birthday Harpers & Queen   \n",
       "1                         Wilkinson out of his depth   \n",
       "2                                            Go fish   \n",
       "3  Year of Blanchflower's flourish when Spurs sto...   \n",
       "4                            Art review: Paul Graham   \n",
       "\n",
       "                                             News 19  \\\n",
       "0  Win unlimited access to the Raindance film fes...   \n",
       "1                   Kinsella sparks Irish power play   \n",
       "2         Bosnian Serb blows himself up to evade law   \n",
       "3      New direct approach brings only pay-per-blues   \n",
       "4               Shearer shot sparks Boro humiliation   \n",
       "\n",
       "                                             News 20  \\\n",
       "0  Labour pledges £800m to bridge north-south divide   \n",
       "1                    Brown banished as Scots rebound   \n",
       "2                       Orange float delayed to 2001   \n",
       "3                           Third Division  round-up   \n",
       "4  Ridsdale's lingering fears as Leeds revisit Tu...   \n",
       "\n",
       "                                             News 21  \\\n",
       "0       Wales: Lib-Lab pact firm despite resignation   \n",
       "1                   Battling Wales cling to lifeline   \n",
       "2  Angry factory workers root out fear, favours a...   \n",
       "3                          Second Division  round-up   \n",
       "4            Champions League: Rangers v Galatasaray   \n",
       "\n",
       "                              News 22  \\\n",
       "0                        Donald Dewar   \n",
       "1   Ehiogu close to sealing Boro move   \n",
       "2  Smith defied advice on dome payout   \n",
       "3            First Division  round-up   \n",
       "4   Champions League: Lazio v Arsenal   \n",
       "\n",
       "                                             News 23  \\\n",
       "0  Regenerating homes  regenerates well-being in ...   \n",
       "1                                 Man-to-man marking   \n",
       "2                        Xerox takes the axe to jobs   \n",
       "3                McLean ends his career with a punch   \n",
       "4                                Lazio 1 - 1 Arsenal   \n",
       "\n",
       "                        News 24  \\\n",
       "0   Win £100 worth of underwear   \n",
       "1                   Match stats   \n",
       "2  Comment: Refugees in Britain   \n",
       "3     Heskey grabs triple crown   \n",
       "4           England in Pakistan   \n",
       "\n",
       "                                             News 25  \n",
       "0                             TV guide: Random views  \n",
       "1  French referee at centre of storm is no strang...  \n",
       "2              Maverick who sparked the new intifada  \n",
       "3                   Weah on his way as City march on  \n",
       "4               England given olive-branch reception  \n",
       "\n",
       "[5 rows x 27 columns]"
      ]
     },
     "execution_count": 4,
     "metadata": {},
     "output_type": "execute_result"
    }
   ],
   "source": [
    "df.head()"
   ]
  },
  {
   "cell_type": "code",
   "execution_count": 5,
   "metadata": {
    "colab": {
     "base_uri": "https://localhost:8080/"
    },
    "executionInfo": {
     "elapsed": 48,
     "status": "ok",
     "timestamp": 1653818362652,
     "user": {
      "displayName": "Phasma X",
      "userId": "00537645652717338233"
     },
     "user_tz": -330
    },
    "id": "rDyg64OiJugi",
    "outputId": "5d2fe77f-8f10-4c31-c6b1-979eca58eaf9"
   },
   "outputs": [
    {
     "name": "stdout",
     "output_type": "stream",
     "text": [
      "<class 'pandas.core.frame.DataFrame'>\n",
      "RangeIndex: 4101 entries, 0 to 4100\n",
      "Data columns (total 27 columns):\n",
      " #   Column   Non-Null Count  Dtype \n",
      "---  ------   --------------  ----- \n",
      " 0   Date     4101 non-null   object\n",
      " 1   Label    4101 non-null   int64 \n",
      " 2   News 1   4101 non-null   object\n",
      " 3   News 2   4101 non-null   object\n",
      " 4   News 3   4101 non-null   object\n",
      " 5   News 4   4101 non-null   object\n",
      " 6   News 5   4101 non-null   object\n",
      " 7   News 6   4101 non-null   object\n",
      " 8   News 7   4101 non-null   object\n",
      " 9   News 8   4101 non-null   object\n",
      " 10  News 9   4101 non-null   object\n",
      " 11  News 10  4101 non-null   object\n",
      " 12  News 11  4101 non-null   object\n",
      " 13  News 12  4101 non-null   object\n",
      " 14  News 13  4101 non-null   object\n",
      " 15  News 14  4101 non-null   object\n",
      " 16  News 15  4101 non-null   object\n",
      " 17  News 16  4101 non-null   object\n",
      " 18  News 17  4101 non-null   object\n",
      " 19  News 18  4101 non-null   object\n",
      " 20  News 19  4101 non-null   object\n",
      " 21  News 20  4101 non-null   object\n",
      " 22  News 21  4101 non-null   object\n",
      " 23  News 22  4101 non-null   object\n",
      " 24  News 23  4100 non-null   object\n",
      " 25  News 24  4098 non-null   object\n",
      " 26  News 25  4098 non-null   object\n",
      "dtypes: int64(1), object(26)\n",
      "memory usage: 865.2+ KB\n"
     ]
    }
   ],
   "source": [
    "df.info()"
   ]
  },
  {
   "cell_type": "code",
   "execution_count": 6,
   "metadata": {
    "colab": {
     "base_uri": "https://localhost:8080/"
    },
    "executionInfo": {
     "elapsed": 40,
     "status": "ok",
     "timestamp": 1653818362653,
     "user": {
      "displayName": "Phasma X",
      "userId": "00537645652717338233"
     },
     "user_tz": -330
    },
    "id": "Lufory-cJ3tr",
    "outputId": "73a95f0a-c6ff-48e5-9602-1aefbd7a6626"
   },
   "outputs": [
    {
     "data": {
      "text/plain": [
       "(4101, 27)"
      ]
     },
     "execution_count": 6,
     "metadata": {},
     "output_type": "execute_result"
    }
   ],
   "source": [
    "df.shape"
   ]
  },
  {
   "cell_type": "code",
   "execution_count": 7,
   "metadata": {
    "colab": {
     "base_uri": "https://localhost:8080/"
    },
    "executionInfo": {
     "elapsed": 34,
     "status": "ok",
     "timestamp": 1653818362654,
     "user": {
      "displayName": "Phasma X",
      "userId": "00537645652717338233"
     },
     "user_tz": -330
    },
    "id": "6tb8wy42KHP-",
    "outputId": "f8b483f2-839e-40b3-f8c4-88d7b3f38ef8"
   },
   "outputs": [
    {
     "data": {
      "text/plain": [
       "Index(['Date', 'Label', 'News 1', 'News 2', 'News 3', 'News 4', 'News 5',\n",
       "       'News 6', 'News 7', 'News 8', 'News 9', 'News 10', 'News 11', 'News 12',\n",
       "       'News 13', 'News 14', 'News 15', 'News 16', 'News 17', 'News 18',\n",
       "       'News 19', 'News 20', 'News 21', 'News 22', 'News 23', 'News 24',\n",
       "       'News 25'],\n",
       "      dtype='object')"
      ]
     },
     "execution_count": 7,
     "metadata": {},
     "output_type": "execute_result"
    }
   ],
   "source": [
    "df.columns"
   ]
  },
  {
   "cell_type": "markdown",
   "metadata": {
    "id": "zXfMCO22KxyX"
   },
   "source": [
    "**Get Feature Slection**"
   ]
  },
  {
   "cell_type": "code",
   "execution_count": 8,
   "metadata": {
    "colab": {
     "base_uri": "https://localhost:8080/",
     "height": 105
    },
    "executionInfo": {
     "elapsed": 30,
     "status": "ok",
     "timestamp": 1653818362655,
     "user": {
      "displayName": "Phasma X",
      "userId": "00537645652717338233"
     },
     "user_tz": -330
    },
    "id": "irMRLZTSKLim",
    "outputId": "8cee4530-cf3a-40a4-f96a-e5944da14287"
   },
   "outputs": [
    {
     "data": {
      "text/plain": [
       "\"Warning from history points to crash Investors flee to dollar haven Banks and tobacco in favour Review: Llama Farmers War jitters lead to sell-off Your not-so-secret history Review: The Northern Sinfonia Review: Hysteria Review: The Guardsman Opera: The Marriage of Figaro Review: The Turk in Italy Deutsche spells out its plans for diversification Traders' panic sends oil prices skyward TV sport chief leaves home over romance Leader: Hi-tech twitch Why Wenger will stick to his Gunners Out of luck England hit rock bottom Wilkinson out of his depth Kinsella sparks Irish power play Brown banished as Scots rebound Battling Wales cling to lifeline Ehiogu close to sealing Boro move Man-to-man marking Match stats French referee at centre of storm is no stranger to controversy\""
      ]
     },
     "execution_count": 8,
     "metadata": {},
     "output_type": "execute_result"
    }
   ],
   "source": [
    "' '.join(str(x) for x in df.iloc[1,2:27])"
   ]
  },
  {
   "cell_type": "code",
   "execution_count": 9,
   "metadata": {
    "colab": {
     "base_uri": "https://localhost:8080/"
    },
    "executionInfo": {
     "elapsed": 26,
     "status": "ok",
     "timestamp": 1653818362656,
     "user": {
      "displayName": "Phasma X",
      "userId": "00537645652717338233"
     },
     "user_tz": -330
    },
    "id": "bf_tCIZfK1gc",
    "outputId": "8577c351-f2db-423d-cce3-c387917ad935"
   },
   "outputs": [
    {
     "data": {
      "text/plain": [
       "RangeIndex(start=0, stop=4101, step=1)"
      ]
     },
     "execution_count": 9,
     "metadata": {},
     "output_type": "execute_result"
    }
   ],
   "source": [
    "df.index"
   ]
  },
  {
   "cell_type": "code",
   "execution_count": 10,
   "metadata": {
    "colab": {
     "base_uri": "https://localhost:8080/"
    },
    "executionInfo": {
     "elapsed": 19,
     "status": "ok",
     "timestamp": 1653818362656,
     "user": {
      "displayName": "Phasma X",
      "userId": "00537645652717338233"
     },
     "user_tz": -330
    },
    "id": "8HjXXwwpK55j",
    "outputId": "5f1af4b1-027c-4cca-9e1b-6ab5a5e328f5"
   },
   "outputs": [
    {
     "data": {
      "text/plain": [
       "4101"
      ]
     },
     "execution_count": 10,
     "metadata": {},
     "output_type": "execute_result"
    }
   ],
   "source": [
    "len(df.index)"
   ]
  },
  {
   "cell_type": "code",
   "execution_count": 11,
   "metadata": {
    "id": "MCftrIrlK9LM"
   },
   "outputs": [],
   "source": [
    "news = []\n",
    "for row in  range (0 , len(df.index)):\n",
    "  news.append(' '.join(str(x) for x in df.iloc[row,2:27]))"
   ]
  },
  {
   "cell_type": "code",
   "execution_count": 12,
   "metadata": {
    "colab": {
     "base_uri": "https://localhost:8080/"
    },
    "executionInfo": {
     "elapsed": 28,
     "status": "ok",
     "timestamp": 1653818363479,
     "user": {
      "displayName": "Phasma X",
      "userId": "00537645652717338233"
     },
     "user_tz": -330
    },
    "id": "-jEq0T0QLkYj",
    "outputId": "09c9f41f-b689-4a67-9504-5bf5ab82d3e2"
   },
   "outputs": [
    {
     "data": {
      "text/plain": [
       "list"
      ]
     },
     "execution_count": 12,
     "metadata": {},
     "output_type": "execute_result"
    }
   ],
   "source": [
    "type(news)"
   ]
  },
  {
   "cell_type": "code",
   "execution_count": 13,
   "metadata": {
    "colab": {
     "base_uri": "https://localhost:8080/",
     "height": 105
    },
    "executionInfo": {
     "elapsed": 22,
     "status": "ok",
     "timestamp": 1653818363480,
     "user": {
      "displayName": "Phasma X",
      "userId": "00537645652717338233"
     },
     "user_tz": -330
    },
    "id": "jC8r2oMPLoy8",
    "outputId": "d189939a-219c-4e2b-d1a1-220c968c323a"
   },
   "outputs": [
    {
     "data": {
      "text/plain": [
       "\"McIlroy's men catch cold from Gudjonsson Obituary: Brian Walsh Workplace blues leave employers in the red Classical review: Rattle Dance review: Merce Cunningham Genetic tests to be used in setting premiums Opera review: La Bohème Pop review: Britney Spears Theatre review: The Circle Wales face a fraught night Under-21  round-up Smith off to blot his copybook Finns taking the mickey Praise wasted as Brown studies injury options Ireland wary of minnows Finland 0 - 0 England Healy a marked man Happy birthday Harpers & Queen Win unlimited access to the Raindance film festival Labour pledges £800m to bridge north-south divide Wales: Lib-Lab pact firm despite resignation Donald Dewar Regenerating homes  regenerates well-being in people Win £100 worth of underwear TV guide: Random views\""
      ]
     },
     "execution_count": 13,
     "metadata": {},
     "output_type": "execute_result"
    }
   ],
   "source": [
    "news[0]"
   ]
  },
  {
   "cell_type": "code",
   "execution_count": 14,
   "metadata": {
    "id": "y_ep1iUFLu4g"
   },
   "outputs": [],
   "source": [
    "X = news"
   ]
  },
  {
   "cell_type": "code",
   "execution_count": 15,
   "metadata": {
    "colab": {
     "base_uri": "https://localhost:8080/"
    },
    "executionInfo": {
     "elapsed": 17,
     "status": "ok",
     "timestamp": 1653818363482,
     "user": {
      "displayName": "Phasma X",
      "userId": "00537645652717338233"
     },
     "user_tz": -330
    },
    "id": "FhajNW_PL2e-",
    "outputId": "9c60caba-4a87-492d-9ad5-3b0fb576cf17"
   },
   "outputs": [
    {
     "data": {
      "text/plain": [
       "list"
      ]
     },
     "execution_count": 15,
     "metadata": {},
     "output_type": "execute_result"
    }
   ],
   "source": [
    "type(X)"
   ]
  },
  {
   "cell_type": "markdown",
   "metadata": {
    "id": "oCN4xAjaM2hY"
   },
   "source": [
    "**Get Feature Text Conversion To Bag of Words**"
   ]
  },
  {
   "cell_type": "code",
   "execution_count": 16,
   "metadata": {
    "id": "TqlvH7NYL56m"
   },
   "outputs": [],
   "source": [
    "from sklearn.feature_extraction.text import CountVectorizer"
   ]
  },
  {
   "cell_type": "code",
   "execution_count": 17,
   "metadata": {
    "id": "NcwuniJVNJeC"
   },
   "outputs": [],
   "source": [
    "cv = CountVectorizer(lowercase = True , ngram_range=(1,1))"
   ]
  },
  {
   "cell_type": "code",
   "execution_count": 18,
   "metadata": {
    "id": "ggU_C1MENQ-1"
   },
   "outputs": [],
   "source": [
    "X = cv.fit_transform(X)"
   ]
  },
  {
   "cell_type": "code",
   "execution_count": 19,
   "metadata": {
    "colab": {
     "base_uri": "https://localhost:8080/"
    },
    "executionInfo": {
     "elapsed": 20,
     "status": "ok",
     "timestamp": 1653818365137,
     "user": {
      "displayName": "Phasma X",
      "userId": "00537645652717338233"
     },
     "user_tz": -330
    },
    "id": "0Xy8IPdKNU-R",
    "outputId": "9bfd6693-46c2-44e5-ac96-27680cb8a392"
   },
   "outputs": [
    {
     "data": {
      "text/plain": [
       "(4101, 48527)"
      ]
     },
     "execution_count": 19,
     "metadata": {},
     "output_type": "execute_result"
    }
   ],
   "source": [
    "X.shape"
   ]
  },
  {
   "cell_type": "code",
   "execution_count": 20,
   "metadata": {
    "id": "mR0gMMHHNiDH"
   },
   "outputs": [],
   "source": [
    "y = df['Label']"
   ]
  },
  {
   "cell_type": "code",
   "execution_count": 21,
   "metadata": {
    "colab": {
     "base_uri": "https://localhost:8080/"
    },
    "executionInfo": {
     "elapsed": 15,
     "status": "ok",
     "timestamp": 1653818365139,
     "user": {
      "displayName": "Phasma X",
      "userId": "00537645652717338233"
     },
     "user_tz": -330
    },
    "id": "UFfOXEA8Nm18",
    "outputId": "354eb0cb-51ac-4546-8570-3b1b7b18c2b3"
   },
   "outputs": [
    {
     "data": {
      "text/plain": [
       "(4101,)"
      ]
     },
     "execution_count": 21,
     "metadata": {},
     "output_type": "execute_result"
    }
   ],
   "source": [
    "y.shape"
   ]
  },
  {
   "cell_type": "markdown",
   "metadata": {
    "id": "vULDzbHENtlS"
   },
   "source": [
    "**Get Train Test split**"
   ]
  },
  {
   "cell_type": "code",
   "execution_count": 22,
   "metadata": {
    "id": "xMS1KU4HNoAd"
   },
   "outputs": [],
   "source": [
    "from sklearn.model_selection import train_test_split"
   ]
  },
  {
   "cell_type": "code",
   "execution_count": 23,
   "metadata": {
    "id": "FGv6TIp7N1Xb"
   },
   "outputs": [],
   "source": [
    "X_train, X_test, y_train, y_test = train_test_split(X, y, test_size= 0.3, stratify = y , random_state = 202529)"
   ]
  },
  {
   "cell_type": "code",
   "execution_count": 24,
   "metadata": {
    "id": "sJhiq-UKN2Q8"
   },
   "outputs": [],
   "source": [
    "from sklearn.ensemble import RandomForestClassifier"
   ]
  },
  {
   "cell_type": "code",
   "execution_count": 25,
   "metadata": {
    "id": "uiBQ106nOc0a"
   },
   "outputs": [],
   "source": [
    "rf = RandomForestClassifier(n_estimators = 200)"
   ]
  },
  {
   "cell_type": "code",
   "execution_count": 26,
   "metadata": {
    "colab": {
     "base_uri": "https://localhost:8080/"
    },
    "executionInfo": {
     "elapsed": 24445,
     "status": "ok",
     "timestamp": 1653818390368,
     "user": {
      "displayName": "Phasma X",
      "userId": "00537645652717338233"
     },
     "user_tz": -330
    },
    "id": "MW3uVRhrOg2-",
    "outputId": "88a84500-2e55-45e0-e620-f1edd32be630"
   },
   "outputs": [
    {
     "data": {
      "text/plain": [
       "RandomForestClassifier(n_estimators=200)"
      ]
     },
     "execution_count": 26,
     "metadata": {},
     "output_type": "execute_result"
    }
   ],
   "source": [
    "rf.fit(X_train,y_train)"
   ]
  },
  {
   "cell_type": "code",
   "execution_count": 27,
   "metadata": {
    "id": "wpK11cTbOm6h"
   },
   "outputs": [],
   "source": [
    "y_pred = rf.predict(X_test)"
   ]
  },
  {
   "cell_type": "code",
   "execution_count": 28,
   "metadata": {
    "id": "7XneM_WdPQgt"
   },
   "outputs": [],
   "source": [
    "from sklearn.metrics import confusion_matrix, classification_report,accuracy_score"
   ]
  },
  {
   "cell_type": "code",
   "execution_count": 29,
   "metadata": {
    "colab": {
     "base_uri": "https://localhost:8080/"
    },
    "executionInfo": {
     "elapsed": 42,
     "status": "ok",
     "timestamp": 1653818391412,
     "user": {
      "displayName": "Phasma X",
      "userId": "00537645652717338233"
     },
     "user_tz": -330
    },
    "id": "NGa06LHXPYUt",
    "outputId": "d9131bbb-e455-4fc4-cad7-5c6c2ea9016c"
   },
   "outputs": [
    {
     "data": {
      "text/plain": [
       "array([[137, 444],\n",
       "       [186, 464]], dtype=int64)"
      ]
     },
     "execution_count": 29,
     "metadata": {},
     "output_type": "execute_result"
    }
   ],
   "source": [
    "confusion_matrix(y_test, y_pred)"
   ]
  },
  {
   "cell_type": "code",
   "execution_count": 31,
   "metadata": {
    "colab": {
     "base_uri": "https://localhost:8080/"
    },
    "executionInfo": {
     "elapsed": 22,
     "status": "ok",
     "timestamp": 1653818391413,
     "user": {
      "displayName": "Phasma X",
      "userId": "00537645652717338233"
     },
     "user_tz": -330
    },
    "id": "IAe1TwsuPhGn",
    "outputId": "072a0abe-72ae-4824-aab9-c34340c6530f"
   },
   "outputs": [
    {
     "name": "stdout",
     "output_type": "stream",
     "text": [
      "              precision    recall  f1-score   support\n",
      "\n",
      "           0       0.42      0.24      0.30       581\n",
      "           1       0.51      0.71      0.60       650\n",
      "\n",
      "    accuracy                           0.49      1231\n",
      "   macro avg       0.47      0.47      0.45      1231\n",
      "weighted avg       0.47      0.49      0.46      1231\n",
      "\n"
     ]
    }
   ],
   "source": [
    "print(classification_report(y_test, y_pred))"
   ]
  }
 ],
 "metadata": {
  "colab": {
   "collapsed_sections": [],
   "name": "Financial_Market_News_Sentiment_Analysis.ipynb",
   "provenance": []
  },
  "interpreter": {
   "hash": "f4e4ac1cb5ccac41a9f82eac58b66d39c77f279488ee6f9b2747ef82617f7fa7"
  },
  "kernelspec": {
   "display_name": "Python 3",
   "language": "python",
   "name": "python3"
  },
  "language_info": {
   "codemirror_mode": {
    "name": "ipython",
    "version": 3
   },
   "file_extension": ".py",
   "mimetype": "text/x-python",
   "name": "python",
   "nbconvert_exporter": "python",
   "pygments_lexer": "ipython3",
   "version": "3.8.8"
  }
 },
 "nbformat": 4,
 "nbformat_minor": 1
}
